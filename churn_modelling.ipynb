{
 "cells": [
  {
   "cell_type": "markdown",
   "id": "8141d572",
   "metadata": {},
   "source": [
    "### 1. Load the data\n",
    "Load the training data and display the first few rows to get an overview of the dataset"
   ]
  },
  {
   "cell_type": "code",
   "execution_count": 14,
   "id": "3da3d9e4",
   "metadata": {},
   "outputs": [
    {
     "name": "stdout",
     "output_type": "stream",
     "text": [
      "   id  CustomerId         Surname  CreditScore Geography Gender   Age  Tenure  \\\n",
      "0   0    15674932  Okwudilichukwu          668    France   Male  33.0       3   \n",
      "1   1    15749177   Okwudiliolisa          627    France   Male  33.0       1   \n",
      "2   2    15694510           Hsueh          678    France   Male  40.0      10   \n",
      "3   3    15741417             Kao          581    France   Male  34.0       2   \n",
      "4   4    15766172       Chiemenam          716     Spain   Male  33.0       5   \n",
      "\n",
      "     Balance  NumOfProducts  HasCrCard  IsActiveMember  EstimatedSalary  \\\n",
      "0       0.00              2        1.0             0.0        181449.97   \n",
      "1       0.00              2        1.0             1.0         49503.50   \n",
      "2       0.00              2        1.0             0.0        184866.69   \n",
      "3  148882.54              1        1.0             1.0         84560.88   \n",
      "4       0.00              2        1.0             1.0         15068.83   \n",
      "\n",
      "   Exited  \n",
      "0       0  \n",
      "1       0  \n",
      "2       0  \n",
      "3       0  \n",
      "4       0  \n"
     ]
    }
   ],
   "source": [
    "import pandas as pd\n",
    "\n",
    "# Load the training data\n",
    "df = pd.read_csv(\"data/train.csv\")\n",
    "\n",
    "# Show the first 5 rows\n",
    "print(df.head())"
   ]
  },
  {
   "cell_type": "markdown",
   "id": "e456ab81",
   "metadata": {},
   "source": [
    "### 2. Explore the Dataset\n",
    "We'll check data types, look for missing values, and start understanding the structure of our dataset."
   ]
  },
  {
   "cell_type": "code",
   "execution_count": 15,
   "id": "c5a0e191",
   "metadata": {},
   "outputs": [
    {
     "name": "stdout",
     "output_type": "stream",
     "text": [
      "<class 'pandas.core.frame.DataFrame'>\n",
      "RangeIndex: 165034 entries, 0 to 165033\n",
      "Data columns (total 14 columns):\n",
      " #   Column           Non-Null Count   Dtype  \n",
      "---  ------           --------------   -----  \n",
      " 0   id               165034 non-null  int64  \n",
      " 1   CustomerId       165034 non-null  int64  \n",
      " 2   Surname          165034 non-null  object \n",
      " 3   CreditScore      165034 non-null  int64  \n",
      " 4   Geography        165034 non-null  object \n",
      " 5   Gender           165034 non-null  object \n",
      " 6   Age              165034 non-null  float64\n",
      " 7   Tenure           165034 non-null  int64  \n",
      " 8   Balance          165034 non-null  float64\n",
      " 9   NumOfProducts    165034 non-null  int64  \n",
      " 10  HasCrCard        165034 non-null  float64\n",
      " 11  IsActiveMember   165034 non-null  float64\n",
      " 12  EstimatedSalary  165034 non-null  float64\n",
      " 13  Exited           165034 non-null  int64  \n",
      "dtypes: float64(5), int64(6), object(3)\n",
      "memory usage: 17.6+ MB\n",
      "None\n",
      "id                 0\n",
      "CustomerId         0\n",
      "Surname            0\n",
      "CreditScore        0\n",
      "Geography          0\n",
      "Gender             0\n",
      "Age                0\n",
      "Tenure             0\n",
      "Balance            0\n",
      "NumOfProducts      0\n",
      "HasCrCard          0\n",
      "IsActiveMember     0\n",
      "EstimatedSalary    0\n",
      "Exited             0\n",
      "dtype: int64\n"
     ]
    }
   ],
   "source": [
    "# Check data types and non-null counts\n",
    "print(df.info())\n",
    "\n",
    "# Check for missing values in each column\n",
    "print(df.isnull().sum())"
   ]
  },
  {
   "cell_type": "code",
   "execution_count": 16,
   "id": "355e18ca",
   "metadata": {},
   "outputs": [
    {
     "name": "stdout",
     "output_type": "stream",
     "text": [
      "Geography\n",
      "France     94215\n",
      "Spain      36213\n",
      "Germany    34606\n",
      "Name: count, dtype: int64\n"
     ]
    }
   ],
   "source": [
    "# Show unique values and how many times each appears\n",
    "print(df['Geography'].value_counts())"
   ]
  },
  {
   "cell_type": "markdown",
   "id": "0e4ef1a0",
   "metadata": {},
   "source": [
    "#### 3. Clean the Data\n",
    "We’ll drop irrelevant columns, and convert categorical columns Gender and Geography into numeric values to make the data usable for modelling."
   ]
  },
  {
   "cell_type": "code",
   "execution_count": 17,
   "id": "d7a29f62",
   "metadata": {},
   "outputs": [
    {
     "name": "stdout",
     "output_type": "stream",
     "text": [
      "   CreditScore  Gender   Age  Tenure    Balance  NumOfProducts  HasCrCard  \\\n",
      "0          668       1  33.0       3       0.00              2        1.0   \n",
      "1          627       1  33.0       1       0.00              2        1.0   \n",
      "2          678       1  40.0      10       0.00              2        1.0   \n",
      "3          581       1  34.0       2  148882.54              1        1.0   \n",
      "4          716       1  33.0       5       0.00              2        1.0   \n",
      "\n",
      "   IsActiveMember  EstimatedSalary  Exited  Geography_Germany  Geography_Spain  \n",
      "0             0.0        181449.97       0              False            False  \n",
      "1             1.0         49503.50       0              False            False  \n",
      "2             0.0        184866.69       0              False            False  \n",
      "3             1.0         84560.88       0              False            False  \n",
      "4             1.0         15068.83       0              False             True  \n"
     ]
    }
   ],
   "source": [
    "# Make a copy of the original DataFrame to keep things safe\n",
    "df_clean = df.copy()\n",
    "\n",
    "# Drop unnecessary columns\n",
    "df_clean = df_clean.drop(['id', 'CustomerId', 'Surname'], axis=1)\n",
    "\n",
    "# Convert 'Gender' to binary: Male = 1, Female = 0\n",
    "df_clean['Gender'] = df_clean['Gender'].map({'Male': 1, 'Female': 0})\n",
    "\n",
    "# Convert 'Geography' to dummy variables (e.g. France, Germany, Spain)\n",
    "df_clean = pd.get_dummies(df_clean, columns=['Geography'], drop_first=True)\n",
    "\n",
    "# View the cleaned DataFrame\n",
    "print(df_clean.head())"
   ]
  },
  {
   "cell_type": "markdown",
   "id": "4aa1c3f2",
   "metadata": {},
   "source": [
    "#### 4. Feature Engineering\n",
    "To help the model, we create new features based on existing ones, like balance-to-salary ratio and a flag for having any balance."
   ]
  },
  {
   "cell_type": "code",
   "execution_count": 18,
   "id": "911c0a90",
   "metadata": {},
   "outputs": [],
   "source": [
    "df_clean['BalanceSalaryRatio'] = df_clean['Balance'] / (df_clean['EstimatedSalary'] + 1)"
   ]
  },
  {
   "cell_type": "code",
   "execution_count": 19,
   "id": "3a5b2508",
   "metadata": {},
   "outputs": [],
   "source": [
    "df_clean['HasBalance'] = (df_clean['Balance'] > 0).astype(int)"
   ]
  },
  {
   "cell_type": "code",
   "execution_count": 20,
   "id": "5c65461d",
   "metadata": {},
   "outputs": [
    {
     "name": "stdout",
     "output_type": "stream",
     "text": [
      "     Balance  EstimatedSalary  BalanceSalaryRatio  HasBalance\n",
      "0       0.00        181449.97            0.000000           0\n",
      "1       0.00         49503.50            0.000000           0\n",
      "2       0.00        184866.69            0.000000           0\n",
      "3  148882.54         84560.88            1.760634           1\n",
      "4       0.00         15068.83            0.000000           0\n",
      "CreditScore           0\n",
      "Gender                0\n",
      "Age                   0\n",
      "Tenure                0\n",
      "Balance               0\n",
      "NumOfProducts         0\n",
      "HasCrCard             0\n",
      "IsActiveMember        0\n",
      "EstimatedSalary       0\n",
      "Exited                0\n",
      "Geography_Germany     0\n",
      "Geography_Spain       0\n",
      "BalanceSalaryRatio    0\n",
      "HasBalance            0\n",
      "dtype: int64\n"
     ]
    }
   ],
   "source": [
    "print(df_clean[['Balance', 'EstimatedSalary', 'BalanceSalaryRatio', 'HasBalance']].head())\n",
    "print(df_clean.isnull().sum())"
   ]
  },
  {
   "cell_type": "markdown",
   "id": "dcd73f8e",
   "metadata": {},
   "source": []
  },
  {
   "cell_type": "code",
   "execution_count": null,
   "id": "2f435651",
   "metadata": {},
   "outputs": [],
   "source": []
  }
 ],
 "metadata": {
  "kernelspec": {
   "display_name": "Python 3",
   "language": "python",
   "name": "python3"
  },
  "language_info": {
   "codemirror_mode": {
    "name": "ipython",
    "version": 3
   },
   "file_extension": ".py",
   "mimetype": "text/x-python",
   "name": "python",
   "nbconvert_exporter": "python",
   "pygments_lexer": "ipython3",
   "version": "3.12.6"
  }
 },
 "nbformat": 4,
 "nbformat_minor": 5
}
